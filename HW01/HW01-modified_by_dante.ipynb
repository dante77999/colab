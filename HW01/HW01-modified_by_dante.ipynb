{
  "nbformat": 4,
  "nbformat_minor": 0,
  "metadata": {
    "colab": {
      "name": "ML2021Spring - HW1.ipynb",
      "provenance": [],
      "include_colab_link": true
    },
    "kernelspec": {
      "name": "python3",
      "display_name": "Python 3"
    },
    "accelerator": "GPU"
  },
  "cells": [
    {
      "cell_type": "markdown",
      "metadata": {
        "id": "view-in-github",
        "colab_type": "text"
      },
      "source": [
        "<a href=\"https://colab.research.google.com/github/dante77999/colab/blob/main/HW01/HW01-modified_by_dante.ipynb\" target=\"_parent\"><img src=\"https://colab.research.google.com/assets/colab-badge.svg\" alt=\"Open In Colab\"/></a>"
      ]
    },
    {
      "cell_type": "markdown",
      "metadata": {
        "id": "mz0_QVkxCrX3"
      },
      "source": [
        "# **Homework 1: COVID-19 Cases Prediction (Regression)**"
      ]
    },
    {
      "cell_type": "markdown",
      "metadata": {
        "id": "ZeZnPAiwDRWG"
      },
      "source": [
        "Author: Heng-Jui Chang\n",
        "\n",
        "Slides: https://github.com/ga642381/ML2021-Spring/blob/main/HW01/HW01.pdf  \n",
        "Videos (Mandarin): https://cool.ntu.edu.tw/courses/4793/modules/items/172854  \n",
        "https://cool.ntu.edu.tw/courses/4793/modules/items/172853  \n",
        "Video (English): https://cool.ntu.edu.tw/courses/4793/modules/items/176529\n",
        "\n",
        "\n",
        "Objectives:\n",
        "* Solve a regression problem with deep neural networks (DNN).\n",
        "* Understand basic DNN training tips.\n",
        "* Get familiar with PyTorch.\n",
        "\n",
        "If any questions, please contact the TAs via TA hours, NTU COOL, or email.\n"
      ]
    },
    {
      "cell_type": "markdown",
      "metadata": {
        "id": "Jx3x1nDkG-Uy"
      },
      "source": [
        "# **Download Data**\n",
        "\n",
        "\n",
        "If the Google drive links are dead, you can download data from [kaggle](https://www.kaggle.com/c/ml2021spring-hw1/data), and upload data manually to the workspace."
      ]
    },
    {
      "cell_type": "code",
      "metadata": {
        "colab": {
          "base_uri": "https://localhost:8080/"
        },
        "id": "tMj55YDKG6ch",
        "outputId": "c603d48f-27dd-48c3-faf5-a7dc9624cbc8"
      },
      "source": [
        "tr_path = 'covid.train.csv'  # path to training data\n",
        "tt_path = 'covid.test.csv'   # path to testing data\n",
        "\n",
        "!gdown --id '19CCyCgJrUxtvgZF53vnctJiOJ23T5mqF' --output covid.train.csv\n",
        "!gdown --id '1CE240jLm2npU-tdz81-oVKEF3T2yfT1O' --output covid.test.csv"
      ],
      "execution_count": 157,
      "outputs": [
        {
          "output_type": "stream",
          "name": "stdout",
          "text": [
            "/usr/local/lib/python3.11/dist-packages/gdown/__main__.py:140: FutureWarning: Option `--id` was deprecated in version 4.3.1 and will be removed in 5.0. You don't need to pass it anymore to use a file ID.\n",
            "  warnings.warn(\n",
            "Downloading...\n",
            "From: https://drive.google.com/uc?id=19CCyCgJrUxtvgZF53vnctJiOJ23T5mqF\n",
            "To: /content/covid.train.csv\n",
            "100% 2.00M/2.00M [00:00<00:00, 26.7MB/s]\n",
            "/usr/local/lib/python3.11/dist-packages/gdown/__main__.py:140: FutureWarning: Option `--id` was deprecated in version 4.3.1 and will be removed in 5.0. You don't need to pass it anymore to use a file ID.\n",
            "  warnings.warn(\n",
            "Downloading...\n",
            "From: https://drive.google.com/uc?id=1CE240jLm2npU-tdz81-oVKEF3T2yfT1O\n",
            "To: /content/covid.test.csv\n",
            "100% 651k/651k [00:00<00:00, 24.4MB/s]\n"
          ]
        }
      ]
    },
    {
      "cell_type": "markdown",
      "metadata": {
        "id": "wS_4-77xHk44"
      },
      "source": [
        "# **Import Some Packages**"
      ]
    },
    {
      "cell_type": "code",
      "metadata": {
        "id": "k-onQd4JNA5H"
      },
      "source": [
        "# PyTorch\n",
        "import torch\n",
        "import torch.nn as nn\n",
        "from torch.utils.data import Dataset, DataLoader\n",
        "\n",
        "# For data preprocess\n",
        "import numpy as np\n",
        "import csv\n",
        "import os\n",
        "\n",
        "# For plotting\n",
        "import matplotlib.pyplot as plt\n",
        "from matplotlib.pyplot import figure\n",
        "\n",
        "myseed = 777999  # set a random seed for reproducibility\n",
        "torch.backends.cudnn.deterministic = True\n",
        "torch.backends.cudnn.benchmark = False\n",
        "np.random.seed(myseed)\n",
        "torch.manual_seed(myseed)\n",
        "if torch.cuda.is_available():\n",
        "    torch.cuda.manual_seed_all(myseed)"
      ],
      "execution_count": 158,
      "outputs": []
    },
    {
      "cell_type": "markdown",
      "metadata": {
        "id": "BtE3b6JEH7rw"
      },
      "source": [
        "# **Some Utilities**\n",
        "\n",
        "You do not need to modify this part."
      ]
    },
    {
      "cell_type": "code",
      "metadata": {
        "id": "FWMT3uf1NGQp"
      },
      "source": [
        "def get_device():\n",
        "    ''' Get device (if GPU is available, use GPU) '''\n",
        "    return 'cuda' if torch.cuda.is_available() else 'cpu'\n",
        "\n",
        "def plot_learning_curve(loss_record, title=''):\n",
        "    ''' Plot learning curve of your DNN (train & dev loss) '''\n",
        "    total_steps = len(loss_record['train'])\n",
        "    x_1 = range(total_steps)\n",
        "    x_2 = x_1[::len(loss_record['train']) // len(loss_record['dev'])]\n",
        "    figure(figsize=(6, 4))\n",
        "    plt.plot(x_1, loss_record['train'], c='tab:red', label='train')\n",
        "    plt.plot(x_2, loss_record['dev'], c='tab:cyan', label='dev')\n",
        "    plt.ylim(0.0, 5.)\n",
        "    plt.xlabel('Training steps')\n",
        "    plt.ylabel('MSE loss')\n",
        "    plt.title('Learning curve of {}'.format(title))\n",
        "    plt.legend()\n",
        "    plt.show()\n",
        "\n",
        "\n",
        "def plot_pred(dv_set, model, device, lim=35., preds=None, targets=None):\n",
        "    ''' Plot prediction of your DNN '''\n",
        "    if preds is None or targets is None:\n",
        "        model.eval()\n",
        "        preds, targets = [], []\n",
        "        for x, y in dv_set:\n",
        "            x, y = x.to(device), y.to(device)\n",
        "            with torch.no_grad():\n",
        "                pred = model(x)\n",
        "                preds.append(pred.detach().cpu())\n",
        "                targets.append(y.detach().cpu())\n",
        "        preds = torch.cat(preds, dim=0).numpy()\n",
        "        targets = torch.cat(targets, dim=0).numpy()\n",
        "\n",
        "    figure(figsize=(5, 5))\n",
        "    plt.scatter(targets, preds, c='r', alpha=0.5)\n",
        "    plt.plot([-0.2, lim], [-0.2, lim], c='b')\n",
        "    plt.xlim(-0.2, lim)\n",
        "    plt.ylim(-0.2, lim)\n",
        "    plt.xlabel('ground truth value')\n",
        "    plt.ylabel('predicted value')\n",
        "    plt.title('Ground Truth v.s. Prediction')\n",
        "    plt.show()"
      ],
      "execution_count": 159,
      "outputs": []
    },
    {
      "cell_type": "markdown",
      "metadata": {
        "id": "39U_XFX6KOoj"
      },
      "source": [
        "# **Preprocess**\n",
        "\n",
        "We have three kinds of datasets:\n",
        "* `train`: for training\n",
        "* `dev`: for validation\n",
        "* `test`: for testing (w/o target value)"
      ]
    },
    {
      "cell_type": "markdown",
      "metadata": {
        "id": "TQ-MdwpLL7Dt"
      },
      "source": [
        "## **Dataset**\n",
        "\n",
        "The `COVID19Dataset` below does:\n",
        "* read `.csv` files\n",
        "* extract features\n",
        "* split `covid.train.csv` into train/dev sets\n",
        "* normalize features\n",
        "\n",
        "Finishing `TODO` below might make you pass medium baseline."
      ]
    },
    {
      "cell_type": "code",
      "metadata": {
        "id": "0zlpIp9ANJRU"
      },
      "source": [
        "class COVID19Dataset(Dataset):\n",
        "    ''' Dataset for loading and preprocessing the COVID19 dataset '''\n",
        "    def __init__(self,\n",
        "                 path,\n",
        "                 mode='train',\n",
        "                 target_only=False):\n",
        "        self.mode = mode\n",
        "\n",
        "        # Read data into numpy arrays\n",
        "        with open(path, 'r') as fp:\n",
        "            data = list(csv.reader(fp))\n",
        "            data = np.array(data[1:])[:, 1:].astype(float)\n",
        "\n",
        "        if not target_only:\n",
        "            feats = list(range(93))\n",
        "        else:\n",
        "            # TODO: Using 40 states & 2 tested_positive features (indices = 57 & 75)\n",
        "             feats = [75, 57, 78, 42, 60, 43, 61, 79, 58, 40, 76, 77, 59, 41, 74, 56, 92, 87, 51, 69, 65, 83, 47, 91, 73, 55, 85, 84, 48, 49]\n",
        "        if mode == 'test':\n",
        "            # Testing data\n",
        "            # data: 893 x 93 (40 states + day 1 (18) + day 2 (18) + day 3 (17))\n",
        "            data = data[:, feats]\n",
        "            self.data = torch.FloatTensor(data)\n",
        "        else:\n",
        "            # Training data (train/dev sets)\n",
        "            # data: 2700 x 94 (40 states + day 1 (18) + day 2 (18) + day 3 (18))\n",
        "            target = data[:, -1]\n",
        "            data = data[:, feats]\n",
        "\n",
        "            # Splitting training data into train & dev sets\n",
        "            if mode == 'train':\n",
        "                indices = [i for i in range(len(data)) if i % 5 != 0]\n",
        "            elif mode == 'dev':\n",
        "                indices = [i for i in range(len(data)) if i % 5 == 0]\n",
        "\n",
        "            # Convert data into PyTorch tensors\n",
        "            self.data = torch.FloatTensor(data[indices])\n",
        "            self.target = torch.FloatTensor(target[indices])\n",
        "\n",
        "        # Normalize features (you may remove this part to see what will happen)\n",
        "        self.data[:, 40:] = \\\n",
        "            (self.data[:, 40:] - self.data[:, 40:].mean(dim=0, keepdim=True)) \\\n",
        "            / self.data[:, 40:].std(dim=0, keepdim=True)\n",
        "\n",
        "        self.dim = self.data.shape[1]\n",
        "\n",
        "        print('Finished reading the {} set of COVID19 Dataset ({} samples found, each dim = {})'\n",
        "              .format(mode, len(self.data), self.dim))\n",
        "\n",
        "    def __getitem__(self, index):\n",
        "        # Returns one sample at a time\n",
        "        if self.mode in ['train', 'dev']:\n",
        "            # For training\n",
        "            return self.data[index], self.target[index]\n",
        "        else:\n",
        "            # For testing (no target)\n",
        "            return self.data[index]\n",
        "\n",
        "    def __len__(self):\n",
        "        # Returns the size of the dataset\n",
        "        return len(self.data)"
      ],
      "execution_count": 160,
      "outputs": []
    },
    {
      "cell_type": "markdown",
      "metadata": {
        "id": "AlhTlkE7MDo3"
      },
      "source": [
        "## **DataLoader**\n",
        "\n",
        "A `DataLoader` loads data from a given `Dataset` into batches.\n"
      ]
    },
    {
      "cell_type": "code",
      "metadata": {
        "id": "hlhLk5t6MBX3"
      },
      "source": [
        "def prep_dataloader(path, mode, batch_size, n_jobs=0, target_only=False):\n",
        "    ''' Generates a dataset, then is put into a dataloader. '''\n",
        "    dataset = COVID19Dataset(path, mode=mode, target_only=target_only)  # Construct dataset\n",
        "    dataloader = DataLoader(\n",
        "        dataset, batch_size,\n",
        "        shuffle=(mode == 'train'), drop_last=False,\n",
        "        num_workers=n_jobs, pin_memory=True)                            # Construct dataloader\n",
        "    return dataloader"
      ],
      "execution_count": 161,
      "outputs": []
    },
    {
      "cell_type": "markdown",
      "metadata": {
        "id": "SGuycwR0MeQB"
      },
      "source": [
        "# **Deep Neural Network**\n",
        "\n",
        "`NeuralNet` is an `nn.Module` designed for regression.\n",
        "The DNN consists of 2 fully-connected layers with ReLU activation.\n",
        "This module also included a function `cal_loss` for calculating loss.\n"
      ]
    },
    {
      "cell_type": "code",
      "metadata": {
        "id": "49-uXYovOAI0"
      },
      "source": [
        "class NeuralNet(nn.Module):\n",
        "    ''' A simple fully-connected deep neural network '''\n",
        "    def __init__(self, input_dim):\n",
        "        super(NeuralNet, self).__init__()\n",
        "\n",
        "        # Define your neural network here\n",
        "        # TODO: How to modify this model to achieve better performance?\n",
        "        self.net = nn.Sequential(\n",
        "            nn.Linear(input_dim, 32),\n",
        "            nn.BatchNorm1d(32),\n",
        "            nn.Dropout(p=0.2),\n",
        "            nn.LeakyReLU(),\n",
        "            nn.Linear(32, 1)\n",
        "        )\n",
        "\n",
        "        # Mean squared error loss\n",
        "        self.criterion = nn.MSELoss(reduction='mean')\n",
        "\n",
        "    def forward(self, x):\n",
        "        ''' Given input of size (batch_size x input_dim), compute output of the network '''\n",
        "        return self.net(x).squeeze(1)\n",
        "\n",
        "    def cal_loss(self, pred, target):\n",
        "        ''' Calculate loss '''\n",
        "        # TODO: you may implement L1/L2 regularization here\n",
        "        loss = self.criterion(pred,target)\n",
        "        l1_reg = sum(torch.sum(torch.abs(param)) for param in self.parameters())\n",
        "        loss += 0.01 * l1_reg  # 0.01 是 lambda\n",
        "        return loss"
      ],
      "execution_count": 162,
      "outputs": []
    },
    {
      "cell_type": "markdown",
      "metadata": {
        "id": "DvFWVjZ5Nvga"
      },
      "source": [
        "# **Train/Dev/Test**"
      ]
    },
    {
      "cell_type": "markdown",
      "metadata": {
        "id": "MAM8QecJOyqn"
      },
      "source": [
        "## **Training**"
      ]
    },
    {
      "cell_type": "code",
      "metadata": {
        "id": "lOqcmYzMO7jB"
      },
      "source": [
        "def train(tr_set, dv_set, model, config, device):\n",
        "    ''' DNN training '''\n",
        "\n",
        "    n_epochs = config['n_epochs']  # Maximum number of epochs\n",
        "\n",
        "    # Setup optimizer\n",
        "    optimizer = getattr(torch.optim, config['optimizer'])(\n",
        "        model.parameters(), **config['optim_hparas'])\n",
        "\n",
        "    min_mse = 1000.\n",
        "    loss_record = {'train': [], 'dev': []}      # for recording training loss\n",
        "    early_stop_cnt = 0\n",
        "    epoch = 0\n",
        "    while epoch < n_epochs:\n",
        "        model.train()                           # set model to training mode\n",
        "        for x, y in tr_set:                     # iterate through the dataloader\n",
        "            optimizer.zero_grad()               # set gradient to zero\n",
        "            x, y = x.to(device), y.to(device)   # move data to device (cpu/cuda)\n",
        "            pred = model(x)                     # forward pass (compute output)\n",
        "            mse_loss = model.cal_loss(pred, y)  # compute loss\n",
        "            mse_loss.backward()                 # compute gradient (backpropagation)\n",
        "            optimizer.step()                    # update model with optimizer\n",
        "            loss_record['train'].append(mse_loss.detach().cpu().item())\n",
        "\n",
        "        # After each epoch, test your model on the validation (development) set.\n",
        "        dev_mse = dev(dv_set, model, device)\n",
        "        if dev_mse < min_mse:\n",
        "            # Save model if your model improved\n",
        "            min_mse = dev_mse\n",
        "            print('Saving model (epoch = {:4d}, loss = {:.4f})'\n",
        "                .format(epoch + 1, min_mse))\n",
        "            torch.save(model.state_dict(), config['save_path'])  # Save model to specified path\n",
        "            early_stop_cnt = 0\n",
        "        else:\n",
        "            early_stop_cnt += 1\n",
        "\n",
        "        epoch += 1\n",
        "        loss_record['dev'].append(dev_mse)\n",
        "        if early_stop_cnt > config['early_stop']:\n",
        "            # Stop training if your model stops improving for \"config['early_stop']\" epochs.\n",
        "            break\n",
        "\n",
        "    print('Finished training after {} epochs'.format(epoch))\n",
        "    return min_mse, loss_record"
      ],
      "execution_count": 163,
      "outputs": []
    },
    {
      "cell_type": "markdown",
      "metadata": {
        "id": "0hSd4Bn3O2PL"
      },
      "source": [
        "## **Validation**"
      ]
    },
    {
      "cell_type": "code",
      "metadata": {
        "id": "yrxrD3YsN3U2"
      },
      "source": [
        "def dev(dv_set, model, device):\n",
        "    model.eval()                                # set model to evalutation mode\n",
        "    total_loss = 0\n",
        "    for x, y in dv_set:                         # iterate through the dataloader\n",
        "        x, y = x.to(device), y.to(device)       # move data to device (cpu/cuda)\n",
        "        with torch.no_grad():                   # disable gradient calculation\n",
        "            pred = model(x)                     # forward pass (compute output)\n",
        "            mse_loss = model.cal_loss(pred, y)  # compute loss\n",
        "        total_loss += mse_loss.detach().cpu().item() * len(x)  # accumulate loss\n",
        "    total_loss = total_loss / len(dv_set.dataset)              # compute averaged loss\n",
        "\n",
        "    return total_loss"
      ],
      "execution_count": 164,
      "outputs": []
    },
    {
      "cell_type": "markdown",
      "metadata": {
        "id": "g0pdrhQAO41L"
      },
      "source": [
        "## **Testing**"
      ]
    },
    {
      "cell_type": "code",
      "metadata": {
        "id": "aSBMRFlYN5tB"
      },
      "source": [
        "def test(tt_set, model, device):\n",
        "    model.eval()                                # set model to evalutation mode\n",
        "    preds = []\n",
        "    for x in tt_set:                            # iterate through the dataloader\n",
        "        x = x.to(device)                        # move data to device (cpu/cuda)\n",
        "        with torch.no_grad():                   # disable gradient calculation\n",
        "            pred = model(x)                     # forward pass (compute output)\n",
        "            preds.append(pred.detach().cpu())   # collect prediction\n",
        "    preds = torch.cat(preds, dim=0).numpy()     # concatenate all predictions and convert to a numpy array\n",
        "    return preds"
      ],
      "execution_count": 165,
      "outputs": []
    },
    {
      "cell_type": "markdown",
      "metadata": {
        "id": "SvckkF5dvf0j"
      },
      "source": [
        "# **Setup Hyper-parameters**\n",
        "\n",
        "`config` contains hyper-parameters for training and the path to save your model."
      ]
    },
    {
      "cell_type": "code",
      "metadata": {
        "id": "NPXpdumwPjE7"
      },
      "source": [
        "device = get_device()                 # get the current available device ('cpu' or 'cuda')\n",
        "os.makedirs('models', exist_ok=True)  # The trained model will be saved to ./models/\n",
        "target_only = True                   # TODO: Using 40 states & 2 tested_positive features\n",
        "\n",
        "# TODO: How to tune these hyper-parameters to improve your model's performance?\n",
        "config = {\n",
        "    'n_epochs': 25000,                # maximum number of epochs\n",
        "    'batch_size': 200,               # mini-batch size for dataloader\n",
        "    'optimizer': 'Adam',              # optimization algorithm (optimizer in torch.optim)\n",
        "    'optim_hparas': {                # hyper-parameters for the optimizer (depends on which optimizer you are using)\n",
        "        'lr': 0.0005,\n",
        "                                     # learning rate of SGD\n",
        "        'weight_decay':0.01# momentum for SGD\n",
        "    },\n",
        "    'early_stop': 500,               # early stopping epochs (the number epochs since your model's last improvement)\n",
        "    'save_path': 'models/model.pth'  # your model will be saved here\n",
        "}"
      ],
      "execution_count": 166,
      "outputs": []
    },
    {
      "cell_type": "markdown",
      "metadata": {
        "id": "6j1eOV3TOH-j"
      },
      "source": [
        "# **Load data and model**"
      ]
    },
    {
      "cell_type": "code",
      "metadata": {
        "colab": {
          "base_uri": "https://localhost:8080/"
        },
        "id": "eNrYBMmePLKm",
        "outputId": "fb6c5d95-1153-4b3f-a5dd-7f369056376b"
      },
      "source": [
        "tr_set = prep_dataloader(tr_path, 'train', config['batch_size'], target_only=target_only)\n",
        "dv_set = prep_dataloader(tr_path, 'dev', config['batch_size'], target_only=target_only)\n",
        "tt_set = prep_dataloader(tt_path, 'test', config['batch_size'], target_only=target_only)"
      ],
      "execution_count": 167,
      "outputs": [
        {
          "output_type": "stream",
          "name": "stdout",
          "text": [
            "Finished reading the train set of COVID19 Dataset (2160 samples found, each dim = 30)\n",
            "Finished reading the dev set of COVID19 Dataset (540 samples found, each dim = 30)\n",
            "Finished reading the test set of COVID19 Dataset (893 samples found, each dim = 30)\n"
          ]
        },
        {
          "output_type": "stream",
          "name": "stderr",
          "text": [
            "<ipython-input-160-b4ad26385952>:43: UserWarning: std(): degrees of freedom is <= 0. Correction should be strictly less than the reduction factor (input numel divided by output numel). (Triggered internally at /pytorch/aten/src/ATen/native/ReduceOps.cpp:1831.)\n",
            "  / self.data[:, 40:].std(dim=0, keepdim=True)\n"
          ]
        }
      ]
    },
    {
      "cell_type": "code",
      "metadata": {
        "id": "FHylSirLP9oh"
      },
      "source": [
        "model = NeuralNet(tr_set.dataset.dim).to(device)  # Construct model and move to device"
      ],
      "execution_count": 168,
      "outputs": []
    },
    {
      "cell_type": "markdown",
      "metadata": {
        "id": "sX2B_zgSOPTJ"
      },
      "source": [
        "# **Start Training!**"
      ]
    },
    {
      "cell_type": "code",
      "metadata": {
        "colab": {
          "base_uri": "https://localhost:8080/"
        },
        "id": "GrEbUxazQAAZ",
        "outputId": "79d17e80-5c30-41c6-861c-7798553969d4"
      },
      "source": [
        "model_loss, model_loss_record = train(tr_set, dv_set, model, config, device)"
      ],
      "execution_count": 169,
      "outputs": [
        {
          "output_type": "stream",
          "name": "stdout",
          "text": [
            "Saving model (epoch =    1, loss = 279.9559)\n",
            "Saving model (epoch =   14, loss = 279.3522)\n",
            "Saving model (epoch =   15, loss = 275.7130)\n",
            "Saving model (epoch =   16, loss = 271.9626)\n",
            "Saving model (epoch =   17, loss = 267.6097)\n",
            "Saving model (epoch =   18, loss = 266.2754)\n",
            "Saving model (epoch =   19, loss = 262.2141)\n",
            "Saving model (epoch =   20, loss = 256.9784)\n",
            "Saving model (epoch =   21, loss = 255.4002)\n",
            "Saving model (epoch =   22, loss = 253.9364)\n",
            "Saving model (epoch =   23, loss = 247.1312)\n",
            "Saving model (epoch =   24, loss = 240.9516)\n",
            "Saving model (epoch =   25, loss = 238.2614)\n",
            "Saving model (epoch =   26, loss = 230.9062)\n",
            "Saving model (epoch =   27, loss = 227.4627)\n",
            "Saving model (epoch =   28, loss = 222.7653)\n",
            "Saving model (epoch =   29, loss = 211.8965)\n",
            "Saving model (epoch =   30, loss = 208.5400)\n",
            "Saving model (epoch =   31, loss = 205.6706)\n",
            "Saving model (epoch =   32, loss = 199.5296)\n",
            "Saving model (epoch =   33, loss = 194.6102)\n",
            "Saving model (epoch =   34, loss = 194.1661)\n",
            "Saving model (epoch =   35, loss = 188.4443)\n",
            "Saving model (epoch =   36, loss = 184.7008)\n",
            "Saving model (epoch =   37, loss = 178.4147)\n",
            "Saving model (epoch =   38, loss = 176.3408)\n",
            "Saving model (epoch =   39, loss = 173.2236)\n",
            "Saving model (epoch =   40, loss = 170.4023)\n",
            "Saving model (epoch =   41, loss = 168.4794)\n",
            "Saving model (epoch =   42, loss = 162.3895)\n",
            "Saving model (epoch =   43, loss = 152.4991)\n",
            "Saving model (epoch =   44, loss = 152.2791)\n",
            "Saving model (epoch =   45, loss = 150.9053)\n",
            "Saving model (epoch =   46, loss = 143.4476)\n",
            "Saving model (epoch =   47, loss = 142.6468)\n",
            "Saving model (epoch =   48, loss = 135.4462)\n",
            "Saving model (epoch =   49, loss = 130.6218)\n",
            "Saving model (epoch =   50, loss = 125.7034)\n",
            "Saving model (epoch =   51, loss = 123.9373)\n",
            "Saving model (epoch =   52, loss = 113.7536)\n",
            "Saving model (epoch =   53, loss = 112.3100)\n",
            "Saving model (epoch =   54, loss = 108.0717)\n",
            "Saving model (epoch =   55, loss = 106.3831)\n",
            "Saving model (epoch =   56, loss = 104.2138)\n",
            "Saving model (epoch =   57, loss = 103.9167)\n",
            "Saving model (epoch =   58, loss = 99.4857)\n",
            "Saving model (epoch =   59, loss = 97.6125)\n",
            "Saving model (epoch =   60, loss = 92.2438)\n",
            "Saving model (epoch =   61, loss = 82.1426)\n",
            "Saving model (epoch =   62, loss = 81.6904)\n",
            "Saving model (epoch =   63, loss = 81.5963)\n",
            "Saving model (epoch =   64, loss = 79.2268)\n",
            "Saving model (epoch =   65, loss = 76.8642)\n",
            "Saving model (epoch =   66, loss = 66.4238)\n",
            "Saving model (epoch =   68, loss = 63.3013)\n",
            "Saving model (epoch =   70, loss = 61.6486)\n",
            "Saving model (epoch =   71, loss = 55.8414)\n",
            "Saving model (epoch =   72, loss = 54.8218)\n",
            "Saving model (epoch =   74, loss = 53.7391)\n",
            "Saving model (epoch =   75, loss = 43.4069)\n",
            "Saving model (epoch =   76, loss = 37.4578)\n",
            "Saving model (epoch =   79, loss = 34.9669)\n",
            "Saving model (epoch =   82, loss = 33.9815)\n",
            "Saving model (epoch =   84, loss = 29.2017)\n",
            "Saving model (epoch =   86, loss = 23.2674)\n",
            "Saving model (epoch =   88, loss = 21.1801)\n",
            "Saving model (epoch =   90, loss = 15.8462)\n",
            "Saving model (epoch =   95, loss = 13.4644)\n",
            "Saving model (epoch =   98, loss = 9.1298)\n",
            "Saving model (epoch =  103, loss = 6.0170)\n",
            "Saving model (epoch =  108, loss = 5.9389)\n",
            "Saving model (epoch =  109, loss = 5.6068)\n",
            "Saving model (epoch =  120, loss = 5.3772)\n",
            "Saving model (epoch =  128, loss = 5.0074)\n",
            "Saving model (epoch =  131, loss = 4.9381)\n",
            "Saving model (epoch =  141, loss = 4.8729)\n",
            "Saving model (epoch =  142, loss = 4.8577)\n",
            "Saving model (epoch =  148, loss = 4.6490)\n",
            "Saving model (epoch =  172, loss = 4.4740)\n",
            "Saving model (epoch =  187, loss = 4.3994)\n",
            "Saving model (epoch =  188, loss = 4.3570)\n",
            "Saving model (epoch =  190, loss = 4.2374)\n",
            "Saving model (epoch =  194, loss = 4.1465)\n",
            "Saving model (epoch =  202, loss = 4.1390)\n",
            "Saving model (epoch =  224, loss = 4.0828)\n",
            "Saving model (epoch =  232, loss = 3.9747)\n",
            "Saving model (epoch =  236, loss = 3.8601)\n",
            "Saving model (epoch =  256, loss = 3.7896)\n",
            "Saving model (epoch =  261, loss = 3.7125)\n",
            "Saving model (epoch =  280, loss = 3.6889)\n",
            "Saving model (epoch =  294, loss = 3.6023)\n",
            "Saving model (epoch =  304, loss = 3.5847)\n",
            "Saving model (epoch =  312, loss = 3.5847)\n",
            "Saving model (epoch =  315, loss = 3.5283)\n",
            "Saving model (epoch =  316, loss = 3.5032)\n",
            "Saving model (epoch =  325, loss = 3.4967)\n",
            "Saving model (epoch =  327, loss = 3.3851)\n",
            "Saving model (epoch =  346, loss = 3.3431)\n",
            "Saving model (epoch =  356, loss = 3.3423)\n",
            "Saving model (epoch =  359, loss = 3.3318)\n",
            "Saving model (epoch =  365, loss = 3.2367)\n",
            "Saving model (epoch =  366, loss = 3.2346)\n",
            "Saving model (epoch =  376, loss = 3.2157)\n",
            "Saving model (epoch =  379, loss = 3.1983)\n",
            "Saving model (epoch =  396, loss = 3.1649)\n",
            "Saving model (epoch =  404, loss = 3.1302)\n",
            "Saving model (epoch =  413, loss = 3.0644)\n",
            "Saving model (epoch =  425, loss = 2.9742)\n",
            "Saving model (epoch =  437, loss = 2.9321)\n",
            "Saving model (epoch =  450, loss = 2.9210)\n",
            "Saving model (epoch =  459, loss = 2.8312)\n",
            "Saving model (epoch =  472, loss = 2.8239)\n",
            "Saving model (epoch =  477, loss = 2.7534)\n",
            "Saving model (epoch =  492, loss = 2.7497)\n",
            "Saving model (epoch =  493, loss = 2.7044)\n",
            "Saving model (epoch =  500, loss = 2.6979)\n",
            "Saving model (epoch =  510, loss = 2.6922)\n",
            "Saving model (epoch =  520, loss = 2.6831)\n",
            "Saving model (epoch =  523, loss = 2.6359)\n",
            "Saving model (epoch =  524, loss = 2.6289)\n",
            "Saving model (epoch =  526, loss = 2.6227)\n",
            "Saving model (epoch =  535, loss = 2.5701)\n",
            "Saving model (epoch =  549, loss = 2.5367)\n",
            "Saving model (epoch =  553, loss = 2.4911)\n",
            "Saving model (epoch =  559, loss = 2.4756)\n",
            "Saving model (epoch =  566, loss = 2.4018)\n",
            "Saving model (epoch =  591, loss = 2.3636)\n",
            "Saving model (epoch =  593, loss = 2.3488)\n",
            "Saving model (epoch =  598, loss = 2.3284)\n",
            "Saving model (epoch =  611, loss = 2.2665)\n",
            "Saving model (epoch =  641, loss = 2.2009)\n",
            "Saving model (epoch =  647, loss = 2.1869)\n",
            "Saving model (epoch =  650, loss = 2.1816)\n",
            "Saving model (epoch =  662, loss = 2.1407)\n",
            "Saving model (epoch =  675, loss = 2.1209)\n",
            "Saving model (epoch =  676, loss = 2.0877)\n",
            "Saving model (epoch =  686, loss = 2.0567)\n",
            "Saving model (epoch =  704, loss = 2.0532)\n",
            "Saving model (epoch =  707, loss = 2.0326)\n",
            "Saving model (epoch =  715, loss = 2.0176)\n",
            "Saving model (epoch =  723, loss = 2.0156)\n",
            "Saving model (epoch =  728, loss = 1.9933)\n",
            "Saving model (epoch =  735, loss = 1.9810)\n",
            "Saving model (epoch =  751, loss = 1.9450)\n",
            "Saving model (epoch =  783, loss = 1.9351)\n",
            "Saving model (epoch =  786, loss = 1.9270)\n",
            "Saving model (epoch =  812, loss = 1.9149)\n",
            "Saving model (epoch =  813, loss = 1.9079)\n",
            "Saving model (epoch =  825, loss = 1.8782)\n",
            "Saving model (epoch =  854, loss = 1.8710)\n",
            "Saving model (epoch =  861, loss = 1.8355)\n",
            "Saving model (epoch =  886, loss = 1.8306)\n",
            "Saving model (epoch =  895, loss = 1.8248)\n",
            "Saving model (epoch =  918, loss = 1.8114)\n",
            "Saving model (epoch =  923, loss = 1.8047)\n",
            "Saving model (epoch =  935, loss = 1.7878)\n",
            "Saving model (epoch =  965, loss = 1.7862)\n",
            "Saving model (epoch =  969, loss = 1.7824)\n",
            "Saving model (epoch =  976, loss = 1.7753)\n",
            "Saving model (epoch =  978, loss = 1.7407)\n",
            "Saving model (epoch = 1127, loss = 1.7404)\n",
            "Saving model (epoch = 1140, loss = 1.7067)\n",
            "Saving model (epoch = 1145, loss = 1.6856)\n",
            "Saving model (epoch = 1164, loss = 1.6812)\n",
            "Saving model (epoch = 1234, loss = 1.6655)\n",
            "Saving model (epoch = 1247, loss = 1.6366)\n",
            "Saving model (epoch = 1287, loss = 1.6335)\n",
            "Saving model (epoch = 1291, loss = 1.6092)\n",
            "Saving model (epoch = 1406, loss = 1.6060)\n",
            "Saving model (epoch = 1436, loss = 1.6028)\n",
            "Saving model (epoch = 1515, loss = 1.5872)\n",
            "Saving model (epoch = 1604, loss = 1.5708)\n",
            "Saving model (epoch = 1610, loss = 1.5548)\n",
            "Saving model (epoch = 1638, loss = 1.5342)\n",
            "Saving model (epoch = 2018, loss = 1.5264)\n",
            "Saving model (epoch = 2084, loss = 1.5138)\n",
            "Saving model (epoch = 2150, loss = 1.5089)\n",
            "Saving model (epoch = 2263, loss = 1.4872)\n",
            "Saving model (epoch = 2560, loss = 1.4765)\n",
            "Saving model (epoch = 2955, loss = 1.4756)\n",
            "Saving model (epoch = 3040, loss = 1.4742)\n",
            "Saving model (epoch = 3208, loss = 1.4592)\n",
            "Finished training after 3709 epochs\n"
          ]
        }
      ]
    },
    {
      "cell_type": "code",
      "metadata": {
        "colab": {
          "base_uri": "https://localhost:8080/",
          "height": 410
        },
        "id": "hsNO9nnXQBvP",
        "outputId": "3db1fa32-a8ab-4b1e-c435-923155cff479"
      },
      "source": [
        "plot_learning_curve(model_loss_record, title='deep model')"
      ],
      "execution_count": 170,
      "outputs": [
        {
          "output_type": "display_data",
          "data": {
            "text/plain": [
              "<Figure size 600x400 with 1 Axes>"
            ],
            "image/png": "[encoded data removed]"
          },
          "metadata": {}
        }
      ]
    },
    {
      "cell_type": "code",
      "metadata": {
        "colab": {
          "base_uri": "https://localhost:8080/",
          "height": 487
        },
        "id": "3iZTVn5WQFpX",
        "outputId": "608dda55-3f0f-4e30-ca20-2d0f5f64de1a"
      },
      "source": [
        "del model\n",
        "model = NeuralNet(tr_set.dataset.dim).to(device)\n",
        "ckpt = torch.load(config['save_path'], map_location='cpu')  # Load your best model\n",
        "model.load_state_dict(ckpt)\n",
        "plot_pred(dv_set, model, device)  # Show prediction on the validation set"
      ],
      "execution_count": 171,
      "outputs": [
        {
          "output_type": "display_data",
          "data": {
            "text/plain": [
              "<Figure size 500x500 with 1 Axes>"
            ],
            "image/png": "[encoded data removed]"
          },
          "metadata": {}
        }
      ]
    },
    {
      "cell_type": "markdown",
      "metadata": {
        "id": "aQikz3IPiyPf"
      },
      "source": [
        "# **Testing**\n",
        "The predictions of your model on testing set will be stored at `pred.csv`."
      ]
    },
    {
      "cell_type": "code",
      "metadata": {
        "colab": {
          "base_uri": "https://localhost:8080/"
        },
        "id": "O8cTuQjQQOon",
        "outputId": "0603bb37-0958-4fd8-d5bd-bb492894f20c"
      },
      "source": [
        "def save_pred(preds, file):\n",
        "    ''' Save predictions to specified file '''\n",
        "    print('Saving results to {}'.format(file))\n",
        "    with open(file, 'w') as fp:\n",
        "        writer = csv.writer(fp)\n",
        "        writer.writerow(['id', 'tested_positive'])\n",
        "        for i, p in enumerate(preds):\n",
        "            writer.writerow([i, p])\n",
        "\n",
        "preds = test(tt_set, model, device)  # predict COVID-19 cases with your model\n",
        "save_pred(preds, 'pred.csv')         # save prediction file to pred.csv"
      ],
      "execution_count": 172,
      "outputs": [
        {
          "output_type": "stream",
          "name": "stdout",
          "text": [
            "Saving results to pred.csv\n"
          ]
        }
      ]
    },
    {
      "cell_type": "markdown",
      "metadata": {
        "id": "nfrVxqJanGpE"
      },
      "source": [
        "# **Hints**\n",
        "\n",
        "## **Simple Baseline**\n",
        "* Run sample code\n",
        "\n",
        "## **Medium Baseline**\n",
        "* Feature selection: 40 states + 2 `tested_positive` (`TODO` in dataset)\n",
        "\n",
        "## **Strong Baseline**\n",
        "* Feature selection (what other features are useful?)\n",
        "* DNN architecture (layers? dimension? activation function?)\n",
        "* Training (mini-batch? optimizer? learning rate?)\n",
        "* L2 regularization\n",
        "* There are some mistakes in the sample code, can you find them?"
      ]
    },
    {
      "cell_type": "markdown",
      "metadata": {
        "id": "9tmCwXgpot3t"
      },
      "source": [
        "# **Reference**\n",
        "This code is completely written by Heng-Jui Chang @ NTUEE.  \n",
        "Copying or reusing this code is required to specify the original author.\n",
        "\n",
        "E.g.  \n",
        "Source: Heng-Jui Chang @ NTUEE (https://github.com/ga642381/ML2021-Spring/blob/main/HW01/HW01.ipynb)\n"
      ]
    }
  ]
}